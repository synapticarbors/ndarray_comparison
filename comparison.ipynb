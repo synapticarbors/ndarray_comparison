{
 "cells": [
  {
   "cell_type": "markdown",
   "id": "b7184545-c4fa-492b-aa81-111959af0816",
   "metadata": {},
   "source": [
    "## Comparing different methods of accelerating numerical python code\n",
    "\n",
    "A little while ago there was a [post][1] on [/r/rust][2] describing huge gains in porting some numerical code from python to rust. The gains were impressive, but as someone who has worked with python for a long time, I know it's pretty easy to write really slow python. There are a number of options within the ecosystem to get more performant code, and how effective the strategy is highly depends on the nature of the bottleneck. \n",
    "\n",
    "One place where the options are good is anytime you have to do operations on arrays. Sometimes there is a way to hand off the calculation to [numpy](https://numpy.org/), which uses highly optimized C under the hood (i.e. vectorized or \"broadcasting\" solutions). In other cases you can write a C-extension with [cython](https://cython.org/), or use a JIT like [numba](https://numba.pydata.org/) that can generate very fast code for a subset of python/numpy operations. There are a ton of other tools including [pythran](https://pythran.readthedocs.io/en/latest/), [numexpr](https://github.com/pydata/numexpr) and others. All of these have limitations and won't just automatically get you fast code, but they often work very well for these types of numerical bottlenecks.\n",
    "\n",
    "Since I've been playing around with rust on and off for the last few years and you can write extension modules with rust for python, I was curious to compare it to these other more common solutions. I'm not a rust expert, but I've worked through many of the exercism.io problems on the rust track and used it for Advent of Code 2020, as well as a few side projects -- mostly processing hundreds of GB of xml and json files, where rust was 5-10x faster than my python prototype. So I'm not an expert, but am not a complete novice either. \n",
    "\n",
    "### Defining a test problem\n",
    "\n",
    "So here's the problem I'm going to benchmark with a bunch of different tools. Let's take a 5-dimensional array where all dimensions are of an equal length `N` (so shape `(N, N, N, N, N)`). What I want to calculate is a new array of the same shape where the value at element `(i, j, k, l, m)` given `i < j < k < l < m` is the sum of all elements with those same indices permuted in any order. All other elements either with repeating indices and/or unsorted indices should be zero. A simple python implementation of this would be:\n",
    "\n",
    "```python\n",
    "import itertools\n",
    "import numpy as np\n",
    "\n",
    "def accum_unordered(x):\n",
    "    g = np.zeros(x.shape)\n",
    "    for ix in itertools.permutations(range(x.shape[0]), 5):\n",
    "        g[tuple(sorted(ix))] += x[ix]\n",
    "\n",
    "    return g\n",
    "```\n",
    "\n",
    "This is a toy problem but it involves a large number of arithmetic operations on arrays and does not vectorize easily due to the pattern of elements that are being accumulated. \n",
    "\n",
    "**General Caveats**\n",
    "- This is a toy problem and results should not be taken to be generalizable. Your results for different tools will likely differ on different problems and possibly even different hardware.\n",
    "- I'm not going to extreme measures to eek out performance. Therefore I'm probably missing optimization strategies. I'm going more for the \"what can I accomplish given a few hours in an afternoon\". \n",
    "\n",
    "### Implementations\n",
    "\n",
    "The code snippet above is what I'll call the reference python implementation since it's compact and uses python standard library tools outside of using a `numpy` array as the data structure. Below I'm going to go through a number of different implementations and then I'll benchmark each for different sizes of test arrays defined like:\n",
    "\n",
    "```python\n",
    "N = 16\n",
    "a = np.random.normal(size=(N, N, N, N, N))\n",
    "```\n",
    "\n",
    "All code is available in the same github repository as this notebook:\n",
    "https://www.github.com/synapticarbors/ndarray_comparison\n",
    "\n",
    "I'm including a README there on how to compile the code, which I'm assuming has been done before attempting to import any implementation.\n",
    "\n",
    "[1]: https://www.reddit.com/r/rust/comments/qjxwni/we_just_massively_overdelivered_on_a_project/\n",
    "[2]: https://reddit.com/r/rust"
   ]
  },
  {
   "cell_type": "markdown",
   "id": "0d144e23-ff91-4a22-87be-e6453fba1094",
   "metadata": {},
   "source": [
    "#### Vectorized Numpy Solution\n",
    "\n",
    "This problem can't be efficiently cast in terms of a vectorized operations, but we'll still give it a go. We're going to permute the axis of the input array, sum all elements and then keep only the ones we want:\n",
    "\n",
    "```python\n",
    "def accum_unordered_vec(x):\n",
    "    y = np.zeros(x.shape)\n",
    "    for ix in itertools.permutations(range(5), 5):\n",
    "        y += np.moveaxis(x, [0, 1, 2, 3, 4], ix)\n",
    "\n",
    "    z = np.zeros(x.shape)\n",
    "    for ix in itertools.combinations(range(x.shape[0]), 5):\n",
    "        z[ix] = y[ix]\n",
    "\n",
    "    return z\n",
    "```"
   ]
  },
  {
   "cell_type": "code",
   "execution_count": 1,
   "id": "433afaa1-28f3-4d90-9d58-f87c399ee7e8",
   "metadata": {},
   "outputs": [
    {
     "name": "stdout",
     "output_type": "stream",
     "text": [
      "soln match:  True\n",
      "78.2 ms ± 988 µs per loop (mean ± std. dev. of 7 runs, 10 loops each)\n",
      "48.9 ms ± 1.02 ms per loop (mean ± std. dev. of 7 runs, 10 loops each)\n"
     ]
    }
   ],
   "source": [
    "import numpy as np\n",
    "\n",
    "from npfunc import accum_unordered, accum_unordered_vec\n",
    "\n",
    "N = 12\n",
    "a = np.random.normal(size=(N, N, N, N, N))\n",
    "\n",
    "x1 = accum_unordered(a)\n",
    "x2 = accum_unordered_vec(a)\n",
    "\n",
    "# Check to make sure the solutions are equivalent\n",
    "print('soln match: ', np.allclose(x1, x2))\n",
    "\n",
    "%timeit x = accum_unordered(a)\n",
    "%timeit x = accum_unordered_vec(a)"
   ]
  },
  {
   "cell_type": "markdown",
   "id": "b8e1abbd-56e5-4c98-9253-0e8169258350",
   "metadata": {},
   "source": [
    "So for `N = 12` the vecotrized solution is 60% faster. Let's also look when `N` is larger."
   ]
  },
  {
   "cell_type": "code",
   "execution_count": 2,
   "id": "0a75add0-dd23-4233-a000-e8830933f195",
   "metadata": {},
   "outputs": [
    {
     "name": "stdout",
     "output_type": "stream",
     "text": [
      "4.41 s ± 207 ms per loop (mean ± std. dev. of 7 runs, 1 loop each)\n",
      "3.66 s ± 207 ms per loop (mean ± std. dev. of 7 runs, 1 loop each)\n"
     ]
    }
   ],
   "source": [
    "N = 24\n",
    "a = np.random.normal(size=(N, N, N, N, N))\n",
    "\n",
    "%timeit x = accum_unordered(a)\n",
    "%timeit x = accum_unordered_vec(a)"
   ]
  },
  {
   "cell_type": "markdown",
   "id": "96b4253e-5305-44a2-943e-0c612d0de182",
   "metadata": {},
   "source": [
    "The vectorized solution is still a little faster, but not by much. \n",
    "\n",
    "#### Numba\n",
    "\n",
    "Numba provides a JIT that translates a subset of python and numpy into llvm and then compiles it to machine code. It often involves just adding a decorator to a python function. It tends to be the first thing I try when trying to speed up an array calculation since it is so simple to use. I'm going to rewrite the algorithm using explicit loops since numba doesn't know how to convert methods from `itertools`. I'm also going to write a specialized sort routine for the 5 indices since the `sort` method was translated into some very inefficient code:\n",
    "\n",
    "```python\n",
    "import numba as nb\n",
    "import numpy as np\n",
    "\n",
    "\n",
    "@nb.jit(nopython=True)\n",
    "def fast_sort5(a, b, c, d, e):\n",
    "    \"Sort 5 values with 7 Comparisons\"\n",
    "    if a < b:\n",
    "        a, b = b, a\n",
    "    if c < d:\n",
    "        c, d = d, c\n",
    "    if a < c:\n",
    "        a, b, c, d = c, d, a, b\n",
    "    if e < c:\n",
    "        if e < d:\n",
    "            pass\n",
    "        else:\n",
    "            d, e = e, d\n",
    "    else:\n",
    "        if e < a:\n",
    "            c, d, e = e, c, d\n",
    "        else:\n",
    "            a, c, d, e = e, a, c, d\n",
    "    if b < d:\n",
    "        if b < e:\n",
    "            return b, e, d, c, a\n",
    "        else:\n",
    "            return e, b, d, c, a\n",
    "    else:\n",
    "        if b < c:\n",
    "            return e, d, b, c, a\n",
    "        else:\n",
    "            return e, d, c, b, a\n",
    "\n",
    "\n",
    "@nb.jit(nopython=True)\n",
    "def nb_accum_unordered(x):\n",
    "    n = x.shape[0]\n",
    "    g = np.zeros(x.shape)\n",
    "\n",
    "    for i in range(n):\n",
    "        for j in range(n):\n",
    "            if i == j:\n",
    "                continue\n",
    "            for k in range(n):\n",
    "                if i == k or j == k:\n",
    "                    continue\n",
    "                for l in range(n):\n",
    "                    if i == l or j == l or k == l:\n",
    "                        continue\n",
    "                    for m in range(n):\n",
    "                        if i != m and j != m and k != m and l != m:\n",
    "                            ix, jx, kx, lx, mx = fast_sort5(i, j, k, l, m)\n",
    "                            g[ix, jx, kx, lx, mx] += x[i, j, k, l, m]\n",
    "\n",
    "    return g\n",
    "```"
   ]
  },
  {
   "cell_type": "code",
   "execution_count": 3,
   "id": "012f83d4-7a76-4c44-b19e-dc4240b79a60",
   "metadata": {},
   "outputs": [
    {
     "name": "stdout",
     "output_type": "stream",
     "text": [
      "soln match:  True True\n",
      "80.2 ms ± 2 ms per loop (mean ± std. dev. of 7 runs, 10 loops each)\n",
      "994 µs ± 22.1 µs per loop (mean ± std. dev. of 7 runs, 1000 loops each)\n",
      "103 ms ± 2.2 ms per loop (mean ± std. dev. of 7 runs, 10 loops each)\n"
     ]
    }
   ],
   "source": [
    "from nbfunc import nb_accum_unordered\n",
    "\n",
    "N = 12\n",
    "a = np.random.normal(size=(N, N, N, N, N))\n",
    "\n",
    "x1 = accum_unordered(a)  # our reference python solution\n",
    "x2 = nb_accum_unordered(a)  # numba \n",
    "x3 = nb_accum_unordered.py_func(a)  # the same code as the numba but without the JIT\n",
    "\n",
    "# Check to make sure the solutions are equivalent\n",
    "print('soln match: ', np.allclose(x1, x2), np.allclose(x1, x3))\n",
    "\n",
    "%timeit x = accum_unordered(a)\n",
    "%timeit x = nb_accum_unordered(a)\n",
    "%timeit x = nb_accum_unordered.py_func(a)"
   ]
  },
  {
   "cell_type": "markdown",
   "id": "f82a2607-6ff8-4a51-b399-3c8bc9fe949d",
   "metadata": {},
   "source": [
    "So our numba solution is 76x faster than the python reference. The explicit looping implementation that isn't compiled is 25% slower than the reference so it's not that the algorithm is faster, it's the JIT compilation. Let's check again for a larger test array:"
   ]
  },
  {
   "cell_type": "code",
   "execution_count": 4,
   "id": "83625886-2c3d-40be-b48d-f947ffb84fe7",
   "metadata": {},
   "outputs": [
    {
     "name": "stdout",
     "output_type": "stream",
     "text": [
      "4.24 s ± 58.1 ms per loop (mean ± std. dev. of 7 runs, 1 loop each)\n",
      "53.7 ms ± 1.95 ms per loop (mean ± std. dev. of 7 runs, 10 loops each)\n"
     ]
    }
   ],
   "source": [
    "N = 24\n",
    "a = np.random.normal(size=(N, N, N, N, N))\n",
    "\n",
    "%timeit x = accum_unordered(a)\n",
    "%timeit x = nb_accum_unordered(a)"
   ]
  },
  {
   "cell_type": "markdown",
   "id": "440f4241-502e-4a76-99d0-ead2b1efe1de",
   "metadata": {},
   "source": [
    "#### Cython\n",
    "\n",
    "With cython we write an optional hybrid of C and Python that get's translated to C code and then compiled. It's a bit of it's own language, but essentially I'm going to use the algorithm I used with numba, but just add types. I'm also going to add a compiler directive to drop bound checks on the arrays since we know that for a correctly shaped input, we're never going to have an out-of-bounds access. Numba has bounds checking turned off by default. I'm not goint to copy the code here, but it's in `cyfunc.pyx`."
   ]
  },
  {
   "cell_type": "code",
   "execution_count": 5,
   "id": "8e3ee2d0-4b60-4417-bf93-4a036f392bfc",
   "metadata": {},
   "outputs": [
    {
     "name": "stdout",
     "output_type": "stream",
     "text": [
      "soln match:  True\n",
      "79.8 ms ± 1.4 ms per loop (mean ± std. dev. of 7 runs, 10 loops each)\n",
      "1.09 ms ± 26 µs per loop (mean ± std. dev. of 7 runs, 1000 loops each)\n"
     ]
    }
   ],
   "source": [
    "from cyfunc import cy_accum_unordered\n",
    "\n",
    "N = 12\n",
    "a = np.random.normal(size=(N, N, N, N, N))\n",
    "\n",
    "x1 = accum_unordered(a)  # our reference python solution\n",
    "x2 = cy_accum_unordered(a)  # cython\n",
    "\n",
    "# Check to make sure the solutions are equivalent\n",
    "print('soln match: ', np.allclose(x1, x2))\n",
    "\n",
    "%timeit x = accum_unordered(a)\n",
    "%timeit x = cy_accum_unordered(a)\n"
   ]
  },
  {
   "cell_type": "markdown",
   "id": "c6b004bd-da4e-4ee2-affb-9f1d0ed01863",
   "metadata": {},
   "source": [
    "So the cython implementation is a little more verbose because of the added type declarations, but we get very similar performance to numba. \n",
    "\n",
    "#### Pythran\n",
    "\n",
    "I hadn't used pythran before this experiment, but it seemed nearly as simple as numba in terms of code changes, but you still need to set up compilation since it's an ahead-of-time python to C++ translator, that produces native C++11 code with a wrapper to allow it to be called from python. The in-code change from numba only involved dropping the `nb.jit` decorators and adding the following comment above the function definition:\n",
    "\n",
    "```python\n",
    "#pythran export pthr_accum_unordered(float64[:,:,:,:,:] order(C))\n",
    "def pthr_accum_unordered(x):\n",
    "    n = x.shape[0]\n",
    "    ...\n",
    "```"
   ]
  },
  {
   "cell_type": "code",
   "execution_count": 6,
   "id": "8f78dcca-45cc-4010-8eff-58e3fce2a766",
   "metadata": {},
   "outputs": [
    {
     "name": "stdout",
     "output_type": "stream",
     "text": [
      "soln match:  True\n",
      "79.2 ms ± 1.19 ms per loop (mean ± std. dev. of 7 runs, 10 loops each)\n",
      "780 µs ± 12.9 µs per loop (mean ± std. dev. of 7 runs, 1000 loops each)\n"
     ]
    }
   ],
   "source": [
    "from pythranfunc import pthr_accum_unordered\n",
    "\n",
    "N = 12\n",
    "a = np.random.normal(size=(N, N, N, N, N))\n",
    "\n",
    "x1 = accum_unordered(a)  # our reference python solution\n",
    "x2 = pthr_accum_unordered(a)  # pythran\n",
    "\n",
    "# Check to make sure the solutions are equivalent\n",
    "print('soln match: ', np.allclose(x1, x2))\n",
    "\n",
    "%timeit x = accum_unordered(a)\n",
    "%timeit x = pthr_accum_unordered(a)"
   ]
  },
  {
   "cell_type": "markdown",
   "id": "67601b1f-c328-4310-9402-e4bd7138ddcd",
   "metadata": {},
   "source": [
    "I was pretty surprised and impressed by this. Pythran was 96x faster than the reference python solution and about 30% faster than numba or cython. \n",
    "\n",
    "\n",
    "#### Rust\n",
    "\n",
    "For rust I'm using [PyO3](https://pyo3.rs/) to generate a wrapper around rust code written with [rust-numpy](https://github.com/PyO3/rust-numpy) and the [ndarray](https://docs.rs/ndarray) crate. Since I'm less experienced with rust and these crates in particular, I leaned heavily on the examples and [ndarray for numpy users guide](https://docs.rs/ndarray/0.15.3/ndarray/doc/ndarray_for_numpy_users/index.html). The documentation says specifically to \"..prefer higher order methods and arithmetic operations on arrays first, then iteration, and as a last priority using indexed algorithms.\" I'm not sure if there is a way to get around using \"indexed\" algorithms here, but as a general comparison I'm going to translate the numba code to rust. I did try writing versions using the `itertools` crate, as well as `.indexed_iter()`, but those were uniformly slower. I also tried a version using `sort_unstable` instead of my custom `fast_sort5`, but that was slower. \n",
    "\n",
    "The code looks like:\n",
    "\n",
    "```rust\n",
    "fn _accum_unordered1(x: ArrayView5<f64>) -> Array5<f64> {\n",
    "    let mut g = Array::zeros(x.raw_dim());\n",
    "\n",
    "    for i in 0..x.len_of(Axis(0)) {\n",
    "        for j in 0..x.len_of(Axis(1)) {\n",
    "            if i == j {\n",
    "                continue;\n",
    "            }\n",
    "            for k in 0..x.len_of(Axis(2)) {\n",
    "                if i == k || j == k {\n",
    "                    continue;\n",
    "                }\n",
    "                for l in 0..x.len_of(Axis(3)) {\n",
    "                    if i == l || j == l || k == l {\n",
    "                        continue;\n",
    "                    }\n",
    "                    for m in 0..x.len_of(Axis(4)) {\n",
    "                        if i != m && j != m && k != m && l != m {\n",
    "                            let (ix, jx, kx, lx, mx) = fast_sort5(i, j, k, l, m);\n",
    "                            g[[ix, jx, kx, lx, mx]] += x[[i, j, k, l, m]];\n",
    "                        }\n",
    "                    }\n",
    "                }\n",
    "            }\n",
    "        }\n",
    "    }\n",
    "\n",
    "    g\n",
    "}\n",
    "\n",
    "```\n",
    "\n",
    "and the wrapper code:\n",
    "\n",
    "```rust\n",
    "    // wrapper of `_accum_unordered1`\n",
    "    #[pyfn(m)]\n",
    "    #[pyo3(name = \"rs_accum_unordered1\")]\n",
    "    fn accum_unordered1_py<'py>(py: Python<'py>, x: PyReadonlyArray5<f64>) -> &'py PyArray5<f64> {\n",
    "        let x = x.as_array();\n",
    "        _accum_unordered1(x).into_pyarray(py)\n",
    "    }\n",
    "```"
   ]
  },
  {
   "cell_type": "code",
   "execution_count": 7,
   "id": "ddf05729-5d69-4e6c-9f82-fe867adbd342",
   "metadata": {},
   "outputs": [
    {
     "name": "stdout",
     "output_type": "stream",
     "text": [
      "soln match:  True\n",
      "79.2 ms ± 2.05 ms per loop (mean ± std. dev. of 7 runs, 10 loops each)\n",
      "1.62 ms ± 14.9 µs per loop (mean ± std. dev. of 7 runs, 1000 loops each)\n"
     ]
    }
   ],
   "source": [
    "from rust_ext._rsfunc import rs_accum_unordered1\n",
    "\n",
    "N = 12\n",
    "a = np.random.normal(size=(N, N, N, N, N))\n",
    "\n",
    "x1 = accum_unordered(a)  # our reference python solution\n",
    "x2 = rs_accum_unordered1(a)  # rust\n",
    "\n",
    "# Check to make sure the solutions are equivalent\n",
    "print('soln match: ', np.allclose(x1, x2))\n",
    "\n",
    "%timeit x = accum_unordered(a)\n",
    "%timeit x = rs_accum_unordered1(a)"
   ]
  },
  {
   "cell_type": "markdown",
   "id": "f15101c1-4b0b-4dc3-87b1-eef7caff420e",
   "metadata": {},
   "source": [
    "This was a bit disappointing since it's about 60% slower than either the numba or cython solution. I had a feeling though that the rust compiler might have been performing bound checks for the indexed access to the input and output arrays, even though we know that it should be ok. To test this I resorted to some **unsafe rust**:\n",
    "\n",
    "```rust\n",
    "fn _accum_unordered5(x: ArrayView5<f64>) -> Array5<f64> {\n",
    "    let mut g = Array::zeros(x.raw_dim());\n",
    "\n",
    "    for i in 0..x.len_of(Axis(0)) {\n",
    "        for j in 0..x.len_of(Axis(1)) {\n",
    "            if i == j {\n",
    "                continue;\n",
    "            }\n",
    "            for k in 0..x.len_of(Axis(2)) {\n",
    "                if i == k || j == k {\n",
    "                    continue;\n",
    "                }\n",
    "                for l in 0..x.len_of(Axis(3)) {\n",
    "                    if i == l || j == l || k == l {\n",
    "                        continue;\n",
    "                    }\n",
    "                    for m in 0..x.len_of(Axis(4)) {\n",
    "                        if i != m && j != m && k != m && l != m {\n",
    "                            let (ix, jx, kx, lx, mx) = fast_sort5(i, j, k, l, m);\n",
    "                            unsafe {\n",
    "                                *g.uget_mut([ix, jx, kx, lx, mx]) += x.uget([i, j, k, l, m]);\n",
    "                            };\n",
    "                        }\n",
    "                    }\n",
    "                }\n",
    "            }\n",
    "        }\n",
    "    }\n",
    "\n",
    "    g\n",
    "}\n",
    "```\n",
    "\n",
    "Here I'm using the \"unchecked\" methods for array access. This is ok here since I'm in full control of the inputs and I know that the indices are always ok."
   ]
  },
  {
   "cell_type": "code",
   "execution_count": 8,
   "id": "0e2169a3-7591-4025-8216-a3da53de8d4d",
   "metadata": {},
   "outputs": [
    {
     "name": "stdout",
     "output_type": "stream",
     "text": [
      "soln match:  True\n",
      "76.1 ms ± 1.45 ms per loop (mean ± std. dev. of 7 runs, 10 loops each)\n",
      "803 µs ± 5.38 µs per loop (mean ± std. dev. of 7 runs, 1000 loops each)\n"
     ]
    }
   ],
   "source": [
    "from rust_ext._rsfunc import rs_accum_unordered5\n",
    "\n",
    "N = 12\n",
    "a = np.random.normal(size=(N, N, N, N, N))\n",
    "\n",
    "x1 = accum_unordered(a)  # our reference python solution\n",
    "x2 = rs_accum_unordered5(a)  # rust unsafe array access\n",
    "\n",
    "# Check to make sure the solutions are equivalent\n",
    "print('soln match: ', np.allclose(x1, x2))\n",
    "\n",
    "%timeit x = accum_unordered(a)\n",
    "%timeit x = rs_accum_unordered5(a)"
   ]
  },
  {
   "cell_type": "markdown",
   "id": "542fbfe2-c9a1-48af-875a-d33c6b5edcd1",
   "metadata": {},
   "source": [
    "We get a performance increase as expected, and the rust code is now ~20-25% faster than our numba and cython solutions and only about 5% slower than pythran. We had to resort to using an *unsafe* block to remove the penalty for bounds checking though. \n",
    "\n",
    "Finally lets collect data for different size arrays."
   ]
  },
  {
   "cell_type": "code",
   "execution_count": 9,
   "id": "620e3425-c2b0-47e0-9ed1-9fde5c250a8c",
   "metadata": {},
   "outputs": [
    {
     "name": "stdout",
     "output_type": "stream",
     "text": [
      "40 rust_unsafe    "
     ]
    }
   ],
   "source": [
    "# This takes a while to run\n",
    "data = []\n",
    "arr_sz = [5, 10, 15, 20, 25, 30, 40]\n",
    "\n",
    "methods = [\n",
    "    ('pyref', accum_unordered), \n",
    "    ('pyvec', accum_unordered_vec), \n",
    "    ('numba', nb_accum_unordered), \n",
    "    ('cython', cy_accum_unordered),\n",
    "    ('pythran', pthr_accum_unordered),\n",
    "    ('rust', rs_accum_unordered1),\n",
    "    ('rust_unsafe', rs_accum_unordered5)\n",
    "]\n",
    "\n",
    "for N in arr_sz:\n",
    "    for func_name, func in methods:\n",
    "        print(f'\\r{N:02d} {func_name:15}', end='')\n",
    "        a = np.random.normal(size=(N, N, N, N, N))\n",
    "        r = %timeit -q -r3 -o x = func(a);\n",
    "        data.append({'name': func_name, 'n': N, 'timing': r.average})"
   ]
  },
  {
   "cell_type": "code",
   "execution_count": 10,
   "id": "effbedc2-2547-4337-83e3-f4c268cabb8c",
   "metadata": {},
   "outputs": [],
   "source": [
    "import pandas as pd\n",
    "\n",
    "df = pd.DataFrame(data)\n",
    "df = pd.merge(df, df.query('name == \"pyref\"')[['n', 'timing']], \n",
    "              how='left', on=['n'], suffixes=['', '_ref'])\n",
    "df['speedup'] = df['timing_ref'] / df['timing']"
   ]
  },
  {
   "cell_type": "code",
   "execution_count": 11,
   "id": "d512e639-79d3-4dc5-a069-35a54c85c901",
   "metadata": {},
   "outputs": [
    {
     "data": {
      "text/html": [
       "<div>\n",
       "<style scoped>\n",
       "    .dataframe tbody tr th:only-of-type {\n",
       "        vertical-align: middle;\n",
       "    }\n",
       "\n",
       "    .dataframe tbody tr th {\n",
       "        vertical-align: top;\n",
       "    }\n",
       "\n",
       "    .dataframe thead tr th {\n",
       "        text-align: left;\n",
       "    }\n",
       "\n",
       "    .dataframe thead tr:last-of-type th {\n",
       "        text-align: right;\n",
       "    }\n",
       "</style>\n",
       "<table border=\"1\" class=\"dataframe\">\n",
       "  <thead>\n",
       "    <tr>\n",
       "      <th></th>\n",
       "      <th colspan=\"7\" halign=\"left\">speedup</th>\n",
       "    </tr>\n",
       "    <tr>\n",
       "      <th>name</th>\n",
       "      <th>cython</th>\n",
       "      <th>numba</th>\n",
       "      <th>pyref</th>\n",
       "      <th>pythran</th>\n",
       "      <th>pyvec</th>\n",
       "      <th>rust</th>\n",
       "      <th>rust_unsafe</th>\n",
       "    </tr>\n",
       "    <tr>\n",
       "      <th>n</th>\n",
       "      <th></th>\n",
       "      <th></th>\n",
       "      <th></th>\n",
       "      <th></th>\n",
       "      <th></th>\n",
       "      <th></th>\n",
       "      <th></th>\n",
       "    </tr>\n",
       "  </thead>\n",
       "  <tbody>\n",
       "    <tr>\n",
       "      <th>5</th>\n",
       "      <td>9.6</td>\n",
       "      <td>28.5</td>\n",
       "      <td>1.0</td>\n",
       "      <td>38.6</td>\n",
       "      <td>0.1</td>\n",
       "      <td>29.5</td>\n",
       "      <td>36.3</td>\n",
       "    </tr>\n",
       "    <tr>\n",
       "      <th>10</th>\n",
       "      <td>61.7</td>\n",
       "      <td>63.2</td>\n",
       "      <td>1.0</td>\n",
       "      <td>73.2</td>\n",
       "      <td>1.2</td>\n",
       "      <td>40.8</td>\n",
       "      <td>72.3</td>\n",
       "    </tr>\n",
       "    <tr>\n",
       "      <th>15</th>\n",
       "      <td>80.9</td>\n",
       "      <td>87.8</td>\n",
       "      <td>1.0</td>\n",
       "      <td>111.1</td>\n",
       "      <td>1.4</td>\n",
       "      <td>47.8</td>\n",
       "      <td>110.3</td>\n",
       "    </tr>\n",
       "    <tr>\n",
       "      <th>20</th>\n",
       "      <td>71.5</td>\n",
       "      <td>81.6</td>\n",
       "      <td>1.0</td>\n",
       "      <td>110.6</td>\n",
       "      <td>1.3</td>\n",
       "      <td>46.1</td>\n",
       "      <td>107.0</td>\n",
       "    </tr>\n",
       "    <tr>\n",
       "      <th>25</th>\n",
       "      <td>76.7</td>\n",
       "      <td>85.1</td>\n",
       "      <td>1.0</td>\n",
       "      <td>113.2</td>\n",
       "      <td>1.1</td>\n",
       "      <td>47.5</td>\n",
       "      <td>99.6</td>\n",
       "    </tr>\n",
       "    <tr>\n",
       "      <th>30</th>\n",
       "      <td>65.5</td>\n",
       "      <td>63.0</td>\n",
       "      <td>1.0</td>\n",
       "      <td>141.5</td>\n",
       "      <td>1.0</td>\n",
       "      <td>54.1</td>\n",
       "      <td>135.5</td>\n",
       "    </tr>\n",
       "    <tr>\n",
       "      <th>40</th>\n",
       "      <td>60.1</td>\n",
       "      <td>57.8</td>\n",
       "      <td>1.0</td>\n",
       "      <td>119.2</td>\n",
       "      <td>0.7</td>\n",
       "      <td>49.5</td>\n",
       "      <td>119.8</td>\n",
       "    </tr>\n",
       "  </tbody>\n",
       "</table>\n",
       "</div>"
      ],
      "text/plain": [
       "     speedup                                            \n",
       "name  cython numba pyref pythran pyvec  rust rust_unsafe\n",
       "n                                                       \n",
       "5        9.6  28.5   1.0    38.6   0.1  29.5        36.3\n",
       "10      61.7  63.2   1.0    73.2   1.2  40.8        72.3\n",
       "15      80.9  87.8   1.0   111.1   1.4  47.8       110.3\n",
       "20      71.5  81.6   1.0   110.6   1.3  46.1       107.0\n",
       "25      76.7  85.1   1.0   113.2   1.1  47.5        99.6\n",
       "30      65.5  63.0   1.0   141.5   1.0  54.1       135.5\n",
       "40      60.1  57.8   1.0   119.2   0.7  49.5       119.8"
      ]
     },
     "execution_count": 11,
     "metadata": {},
     "output_type": "execute_result"
    }
   ],
   "source": [
    "df_spdup = df[['name', 'n', 'speedup']].pivot(index='n', columns='name').round(1)\n",
    "df_spdup"
   ]
  },
  {
   "cell_type": "code",
   "execution_count": 24,
   "id": "64372c5e-df04-42e7-83bc-056b173f3422",
   "metadata": {},
   "outputs": [
    {
     "data": {
      "text/plain": [
       "<seaborn.axisgrid.FacetGrid at 0x161a89a90>"
      ]
     },
     "execution_count": 24,
     "metadata": {},
     "output_type": "execute_result"
    },
    {
     "data": {
      "image/png": "[encoded data removed]",
      "text/plain": [
       "<Figure size 742.5x360 with 1 Axes>"
      ]
     },
     "metadata": {
      "needs_background": "light"
     },
     "output_type": "display_data"
    }
   ],
   "source": [
    "import seaborn as sns\n",
    "%matplotlib inline\n",
    "\n",
    "g = sns.catplot(x='n', y='timing', hue='name', \n",
    "                alpha=0.8, jitter=0.1, aspect=1.8, data=df)\n",
    "g.set(yscale=\"log\")\n",
    "g.set(ylabel=\"timing (exec time in sec)\")"
   ]
  },
  {
   "cell_type": "markdown",
   "id": "edd3d491-affc-4b34-adf8-79a8f7908d6d",
   "metadata": {},
   "source": [
    "The numba and cython solutions gave about the same speed-up, with numba perhaps slightly faster. The nice thing about numba is that you don't have to add a compilation step to your workflow. It's done in a JIT fashion and then the machine code is cached in memory. This works well if you have a long running process, but you do pay a runtime startup cost. There is an [option](https://numba.readthedocs.io/en/stable/user/jit.html#cache) to cache the compilation to disk which helps though. \n",
    "\n",
    "The safe rust implementation fell in behind numba and cython, but the unsafe version was pretty much on-par with the pythran implementation. I need to look into why all of the implementations' performance fell off at higher `N` relative to the reference and why that fall off happened earlier for numba and cython. Cython also appears to have something going on for the small array (`N=5`) case, where it's performance is poor relative to the other methods. This might be some sort of overhead in the wrapper that's generated or the cost of acquiring the array's memory buffer, but I'm not sure.\n",
    "\n",
    "### Conclusion\n",
    "\n",
    "When writing numerical algorithms over n-dimensional arrays in python there are a number of tools available to deal with performance bottlenecks. I've tested a toy example here with a few of the more popular ones and also using a rust-extension. I'm not sure if I've come up with the \"best\" implementation for this particular problem, but I think it provides a pretty fair comparison between the various tools. \n",
    "\n",
    "Existing tools from the python ecosystem can give you performance that's similar to what you might get writing the same algorithm in rust and can probably beat it if you don't pay attention to the cost of bounds checking. I particular like numba given its simplicity and not needing to rig up a compilation step. I'm hoping someone who looks at my first pass at this has ideas about how to force the rust compiler to ellide the bounds check by doing something clever rather than writing unsafe code. \n",
    "\n",
    "That said, working with pyO3/ndarray/rust-numpy seemed pretty easy so I can imagine instances where I would want to either do a complete project in rust or shove more of the task down to the rust extension level where you can take advantage of the rust crate ecosystem, memory/threading safety and the speed of compiled code involving more complex data structures. As a rule-of-thumb to get the best performance you want to cross the interface between python and compiled code as little as possible, so the more you can do before returning to python, the better. \n",
    "\n",
    "Feedback is welcome and if I get any good suggestions on improving the code, I'll add it to the benchmark."
   ]
  },
  {
   "cell_type": "code",
   "execution_count": 21,
   "id": "d5e04799-c853-4073-89f0-e72fa7be36cd",
   "metadata": {},
   "outputs": [],
   "source": [
    "%load_ext watermark"
   ]
  },
  {
   "cell_type": "code",
   "execution_count": 22,
   "id": "cd5fd05b-b127-4a86-8a34-96c600715a7f",
   "metadata": {},
   "outputs": [
    {
     "name": "stdout",
     "output_type": "stream",
     "text": [
      "Compiler    : Clang 11.1.0 \n",
      "OS          : Darwin\n",
      "Release     : 18.7.0\n",
      "Machine     : x86_64\n",
      "Processor   : i386\n",
      "CPU cores   : 8\n",
      "Architecture: 64bit\n",
      "\n",
      "pythran: 0.10.0\n",
      "seaborn: 0.11.2\n",
      "pandas : 1.3.4\n",
      "numba  : 0.54.1\n",
      "cython : 0.29.24\n",
      "numpy  : 1.20.3\n",
      "\n"
     ]
    }
   ],
   "source": [
    "%watermark -iv -m\n",
    "# running on a mid-2014 MacBook Pro\n",
    "# 2.5 GHz Intel Core i7\n",
    "# 16 GB 1600 MHz DDR3"
   ]
  },
  {
   "cell_type": "markdown",
   "id": "851f5e2f-b25b-459f-8eb4-e419c6601213",
   "metadata": {},
   "source": [
    "### Edits\n",
    "- Nov-11-2021: Changed looping implementations so nesting wasn't as deep for visual clarity. Changed plot to make all data points more visible."
   ]
  }
 ],
 "metadata": {
  "kernelspec": {
   "display_name": "Python 3",
   "language": "python",
   "name": "python3"
  },
  "language_info": {
   "codemirror_mode": {
    "name": "ipython",
    "version": 3
   },
   "file_extension": ".py",
   "mimetype": "text/x-python",
   "name": "python",
   "nbconvert_exporter": "python",
   "pygments_lexer": "ipython3",
   "version": "3.9.7"
  }
 },
 "nbformat": 4,
 "nbformat_minor": 5
}
